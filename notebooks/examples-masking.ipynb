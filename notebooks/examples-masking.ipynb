{
 "cells": [
  {
   "cell_type": "code",
   "execution_count": null,
   "id": "78b74d69-d506-4a04-94cd-494f6626039d",
   "metadata": {},
   "outputs": [],
   "source": [
    "import os\n",
    "os.environ[\"KERAS_BACKEND\"] = \"torch\" # Comment out for tensorflow backend\n",
    "\n",
    "from molexpress import layers\n",
    "from molexpress.datasets import featurizers\n",
    "from molexpress.datasets import encoders\n",
    "from molexpress.ops.chem_ops import get_molecule\n",
    "\n",
    "import torch"
   ]
  },
  {
   "cell_type": "markdown",
   "id": "6ea6f2c2-68a9-4e17-9970-2dc884947d0c",
   "metadata": {},
   "source": [
    "## 1. Featurizers"
   ]
  },
  {
   "cell_type": "code",
   "execution_count": null,
   "id": "715410c1-9efb-49a8-b1c8-bbde338120c6",
   "metadata": {},
   "outputs": [],
   "source": [
    "mol = get_molecule('C(C(=O)O)N')\n",
    "\n",
    "print(featurizers.AtomType(vocab={'O'}, oov=False)(mol.GetAtoms()[0]))\n",
    "print(featurizers.AtomType(vocab={'O'}, oov=True)(mol.GetAtoms()[0]))\n",
    "print(featurizers.AtomType(vocab={'C', 'O'}, oov=False)(mol.GetAtoms()[0]))\n",
    "print(featurizers.AtomType(vocab={'C', 'O', 'N'}, oov=False)(mol.GetAtoms()[0]))\n",
    "print(featurizers.AtomType(vocab={'C', 'O', 'N'}, oov=True)(mol.GetAtoms()[0]))"
   ]
  },
  {
   "cell_type": "markdown",
   "id": "e55da7a9-5064-4b04-b57a-25d15e669b71",
   "metadata": {},
   "source": [
    "## 2. Encoder"
   ]
  },
  {
   "cell_type": "code",
   "execution_count": null,
   "id": "acffa4bc-7919-464c-a1f3-d8e8f2321abc",
   "metadata": {},
   "outputs": [],
   "source": [
    "atom_featurizers = [\n",
    "    featurizers.AtomType({'C', 'O', 'N'}),\n",
    "    featurizers.Hybridization(),\n",
    "]\n",
    "\n",
    "bond_featurizers = [\n",
    "    featurizers.BondType(),\n",
    "    featurizers.Conjugated()\n",
    "]\n",
    "\n",
    "# Currently, collate_fn performs the masking. Should it be performed in PeptideGraphEncoder instead?\n",
    "# ***IMPORTANT***: When fine-tuning a pretrained model, the PeptideGraphEncoder for the fine-tuning task \n",
    "#                  also needs supports_masking=True (as dimensions need to match).\n",
    "peptide_graph_encoder = encoders.PeptideGraphEncoder(\n",
    "    atom_featurizers=atom_featurizers, \n",
    "    bond_featurizers=bond_featurizers,\n",
    "    self_loops=False, # self_loops True adds one feature dim to edge state\n",
    "    supports_masking=True, # supports_masking True adds one feature dim to node and edge state\n",
    ")\n",
    "\n",
    "mol2 = get_molecule('CC(C(=O)O)N')\n",
    "\n",
    "peptide_graph_encoder([mol, mol2])"
   ]
  },
  {
   "cell_type": "markdown",
   "id": "cdd515c9-0982-4e9a-a65b-74ac9cb230d5",
   "metadata": {},
   "source": [
    "## 3. Dataset"
   ]
  },
  {
   "cell_type": "code",
   "execution_count": null,
   "id": "75fe8914-da86-4fe8-ab73-13b33cff2b67",
   "metadata": {},
   "outputs": [],
   "source": [
    "x_dummy = [\n",
    "    ['CC(C)C(C(=O)O)N', 'C(C(=O)O)N'], \n",
    "    ['C(C(=O)O)N', 'CC(C(=O)O)N', 'C(C(=O)O)N'], \n",
    "    ['CC(C(=O)O)N']\n",
    "]\n",
    "\n",
    "class Dataset(torch.utils.data.Dataset):\n",
    "    \n",
    "    def __init__(self, x):\n",
    "        self.x = x\n",
    "\n",
    "    def __len__(self):\n",
    "        return len(self.x)\n",
    "        \n",
    "    def __getitem__(self, index):\n",
    "        graph = peptide_graph_encoder(self.x[index])\n",
    "        return graph\n",
    "        \n",
    "torch_dataset = Dataset(x_dummy)\n",
    "\n",
    "dataset = torch.utils.data.DataLoader(\n",
    "    torch_dataset, batch_size=2, collate_fn=peptide_graph_encoder.masked_collate_fn)\n"
   ]
  },
  {
   "cell_type": "markdown",
   "id": "959fec45-b677-463a-a386-42fd5a24cad1",
   "metadata": {},
   "source": [
    "## 4. Model"
   ]
  },
  {
   "cell_type": "code",
   "execution_count": null,
   "id": "0dfc85ca-a736-4d5f-a4b4-b2a6a62acfa1",
   "metadata": {},
   "outputs": [],
   "source": [
    "class GraphNeuralNetwork(torch.nn.Module):\n",
    "    \n",
    "    def __init__(self, dim):\n",
    "        super().__init__()\n",
    "        self.gcn1 = layers.GINConv(dim)\n",
    "        self.gcn2 = layers.GINConv(dim)\n",
    "        self.gcn3 = layers.GINConv(dim)\n",
    "        self.gcn4 = layers.GINConv(dim)\n",
    "        \n",
    "    def forward(self, x):\n",
    "        x = self.gcn1(x)\n",
    "        x = self.gcn2(x)\n",
    "        x = self.gcn3(x)\n",
    "        x = self.gcn4(x)\n",
    "        return x\n",
    "\n",
    "\n",
    "class NodePrediction(torch.nn.Module):\n",
    "    \n",
    "    def __init__(self, input_dim, output_dim):\n",
    "        super().__init__()\n",
    "        self.linear1 = torch.nn.Linear(input_dim, input_dim) \n",
    "        self.linear2 = torch.nn.Linear(input_dim, output_dim) \n",
    "        \n",
    "    def forward(self, x):\n",
    "        x = self.linear1(x['node_state'])\n",
    "        x = torch.relu(x)\n",
    "        x = self.linear2(x)\n",
    "        return x\n",
    "\n",
    "\n",
    "class EdgePrediction(torch.nn.Module):\n",
    "    \n",
    "    def __init__(self, input_dim, output_dim):\n",
    "        super().__init__()\n",
    "        self.linear1 = torch.nn.Linear(input_dim, input_dim) \n",
    "        self.linear2 = torch.nn.Linear(input_dim, output_dim)\n",
    "        self.gather_incident = layers.GatherIncident()\n",
    "        \n",
    "    def forward(self, x):\n",
    "        x = self.gather_incident(x) # We do not use edge states but incident node states.\n",
    "        x = self.linear1(x)\n",
    "        x = torch.relu(x)\n",
    "        x = self.linear2(x)\n",
    "        return x"
   ]
  },
  {
   "cell_type": "markdown",
   "id": "47d19c5a-31c7-45e3-b623-9151d324ae16",
   "metadata": {},
   "source": [
    "## 5. Fit"
   ]
  },
  {
   "cell_type": "code",
   "execution_count": null,
   "id": "f0eaa96c-392f-457c-9157-803efe8cc019",
   "metadata": {},
   "outputs": [],
   "source": [
    "graph_model = GraphNeuralNetwork(32).to('cuda')\n",
    "node_pred_model = NodePrediction(32, 11).to('cuda')\n",
    "edge_pred_model = EdgePrediction(32 * 2, 6).to('cuda')\n",
    "\n",
    "optimizer = torch.optim.SGD(\n",
    "    (\n",
    "        list(graph_model.parameters()) + \n",
    "        list(node_pred_model.parameters()) + \n",
    "        list(edge_pred_model.parameters())\n",
    "    ),\n",
    "    lr=0.001, momentum=0.5\n",
    ")\n",
    "loss_fn = torch.nn.BCELoss(reduction='none') # use BCELoss if node/edge label (initial node/edge state) is multi-hot.\n",
    "# loss_fn = torch.nn.CrossEntropyLoss(reduction='none') # use CrossEntropyLoss if node/edge label is one-hot.\n",
    "\n",
    "def weighted_loss(pred, true, weight):\n",
    "    pred = torch.nn.Sigmoid()(pred)    # Sigmoid() only with BCELoss\n",
    "    loss = loss_fn(pred, true)\n",
    "    loss = loss * weight[:, None]      # weight[:, None] only with BCELoss\n",
    "    return torch.mean(loss)\n",
    "    \n",
    "for i in range(150):\n",
    "    \n",
    "    loss_sum = 0.\n",
    "    for x in dataset:\n",
    "        graph = graph_model(x)\n",
    "        \n",
    "        node_pred = node_pred_model(graph)\n",
    "        edge_pred = edge_pred_model(graph)\n",
    "\n",
    "        node_loss = weighted_loss(node_pred, graph['node_label'], graph['node_loss_weight'])\n",
    "        edge_loss = weighted_loss(edge_pred, graph['edge_label'], graph['edge_loss_weight'])\n",
    "\n",
    "        loss = node_loss + edge_loss\n",
    "        loss.backward()\n",
    "        optimizer.step()\n",
    "        optimizer.zero_grad()\n",
    "        loss_sum += loss\n",
    "\n",
    "    if i % 5 == 0:\n",
    "        loss_numpy = loss_sum.detach().cpu().numpy()\n",
    "        print(f\"Iteration {i:<3} - Loss {loss_numpy:.3f}\")"
   ]
  },
  {
   "cell_type": "code",
   "execution_count": null,
   "id": "60e9aece-38b4-471b-a3cc-bb8fb525bbfe",
   "metadata": {},
   "outputs": [],
   "source": []
  }
 ],
 "metadata": {
  "kernelspec": {
   "display_name": "Python 3 (ipykernel)",
   "language": "python",
   "name": "python3"
  },
  "language_info": {
   "codemirror_mode": {
    "name": "ipython",
    "version": 3
   },
   "file_extension": ".py",
   "mimetype": "text/x-python",
   "name": "python",
   "nbconvert_exporter": "python",
   "pygments_lexer": "ipython3",
   "version": "3.10.12"
  }
 },
 "nbformat": 4,
 "nbformat_minor": 5
}
