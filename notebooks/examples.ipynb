{
 "cells": [
  {
   "cell_type": "code",
   "execution_count": null,
   "id": "78b74d69-d506-4a04-94cd-494f6626039d",
   "metadata": {},
   "outputs": [],
   "source": [
    "import os\n",
    "os.environ[\"KERAS_BACKEND\"] = \"torch\" # Comment out for tensorflow backend\n",
    "\n",
    "from molexpress import layers\n",
    "from molexpress.datasets import featurizers\n",
    "from molexpress.datasets import encoders\n",
    "\n",
    "from rdkit import Chem\n",
    "\n",
    "import torch"
   ]
  },
  {
   "cell_type": "markdown",
   "id": "6ea6f2c2-68a9-4e17-9970-2dc884947d0c",
   "metadata": {},
   "source": [
    "## 1. Featurizers"
   ]
  },
  {
   "cell_type": "code",
   "execution_count": null,
   "id": "715410c1-9efb-49a8-b1c8-bbde338120c6",
   "metadata": {},
   "outputs": [],
   "source": [
    "mol = Chem.MolFromSmiles('CCO')\n",
    "\n",
    "print(featurizers.AtomType(vocab={'O'}, oov=False)(mol.GetAtoms()[0]))\n",
    "print(featurizers.AtomType(vocab={'O'}, oov=True)(mol.GetAtoms()[0]))\n",
    "print(featurizers.AtomType(vocab={'C', 'O'}, oov=False)(mol.GetAtoms()[0]))\n",
    "print(featurizers.AtomType(vocab={'C', 'O', 'N'}, oov=False)(mol.GetAtoms()[0]))\n",
    "print(featurizers.AtomType(vocab={'C', 'O', 'N'}, oov=True)(mol.GetAtoms()[0]))"
   ]
  },
  {
   "cell_type": "markdown",
   "id": "e55da7a9-5064-4b04-b57a-25d15e669b71",
   "metadata": {},
   "source": [
    "## 2. Encoder"
   ]
  },
  {
   "cell_type": "code",
   "execution_count": null,
   "id": "acffa4bc-7919-464c-a1f3-d8e8f2321abc",
   "metadata": {},
   "outputs": [],
   "source": [
    "atom_featurizers = [\n",
    "    featurizers.AtomType({'C', 'O', 'N'}),\n",
    "    featurizers.Hybridization(),\n",
    "]\n",
    "\n",
    "bond_featurizers = [\n",
    "    featurizers.BondType()\n",
    "]\n",
    "\n",
    "encoder = encoders.MolecularGraphEncoder(\n",
    "    atom_featurizers=atom_featurizers, \n",
    "    bond_featurizers=bond_featurizers,\n",
    "    self_loops=True # adds one dim to edge state\n",
    ")\n",
    "\n",
    "encoder(mol)"
   ]
  },
  {
   "cell_type": "markdown",
   "id": "cdd515c9-0982-4e9a-a65b-74ac9cb230d5",
   "metadata": {},
   "source": [
    "## 3. Dataset"
   ]
  },
  {
   "cell_type": "code",
   "execution_count": null,
   "id": "75fe8914-da86-4fe8-ab73-13b33cff2b67",
   "metadata": {},
   "outputs": [],
   "source": [
    "x_dummy = ['CC', 'CC', 'CCO', 'CCCN']\n",
    "y_dummy = [1., 2., 3., 4.]\n",
    "\n",
    "\n",
    "class TinyDataset(torch.utils.data.Dataset):\n",
    "    \n",
    "    def __init__(self, x, y):\n",
    "        self.x = x\n",
    "        self.y = y\n",
    "        \n",
    "    def __len__(self):\n",
    "        return len(self.x)\n",
    "        \n",
    "    def __getitem__(self, index):\n",
    "        x = self.x[index]\n",
    "        y = self.y[index]\n",
    "        x = encoder(x)\n",
    "        return x, y\n",
    "\n",
    "torch_dataset = TinyDataset(x_dummy, y_dummy)\n",
    "\n",
    "dataset = torch.utils.data.DataLoader(\n",
    "    torch_dataset, batch_size=2, collate_fn=encoder._collate_fn)\n",
    "\n",
    "for x, y in dataset:\n",
    "    print(f'x = {x}\\ny = {y}', end='\\n' + '---' * 30 + '\\n')"
   ]
  },
  {
   "cell_type": "markdown",
   "id": "959fec45-b677-463a-a386-42fd5a24cad1",
   "metadata": {},
   "source": [
    "## 4. Model"
   ]
  },
  {
   "cell_type": "code",
   "execution_count": null,
   "id": "0dfc85ca-a736-4d5f-a4b4-b2a6a62acfa1",
   "metadata": {},
   "outputs": [],
   "source": [
    "class TinyGCNModel(torch.nn.Module):\n",
    "\n",
    "    def __init__(self):\n",
    "        super().__init__()\n",
    "\n",
    "        self.gcn1 = layers.GINConv(32)\n",
    "        self.gcn2 = layers.GINConv(32)\n",
    "        self.readout = layers.Readout()\n",
    "        self.linear = torch.nn.Linear(32, 1)\n",
    "\n",
    "    def forward(self, x):\n",
    "        x = self.gcn1(x)\n",
    "        x = self.gcn2(x)\n",
    "        x = self.readout(x)\n",
    "        x = self.linear(x)\n",
    "        return x\n",
    "\n",
    "model = TinyGCNModel().to('cuda')"
   ]
  },
  {
   "cell_type": "markdown",
   "id": "47d19c5a-31c7-45e3-b623-9151d324ae16",
   "metadata": {},
   "source": [
    "## 5. Fit"
   ]
  },
  {
   "cell_type": "code",
   "execution_count": null,
   "id": "f0eaa96c-392f-457c-9157-803efe8cc019",
   "metadata": {},
   "outputs": [],
   "source": [
    "optimizer = torch.optim.SGD(model.parameters(), lr=0.00001, momentum=0.9)\n",
    "loss_fn = torch.nn.MSELoss()\n",
    "\n",
    "for _ in range(30):\n",
    "    loss_sum = 0.\n",
    "    for x, y in dataset:\n",
    "        optimizer.zero_grad()\n",
    "    \n",
    "        outputs = model(x)\n",
    "    \n",
    "        y = torch.tensor(y, dtype=torch.float32).to('cuda')\n",
    "        loss = loss_fn(outputs, y[:, None])\n",
    "        loss.backward()\n",
    "        optimizer.step()\n",
    "\n",
    "        loss_sum += loss\n",
    "        \n",
    "    print(loss_sum)"
   ]
  },
  {
   "cell_type": "code",
   "execution_count": null,
   "id": "ad047588-9926-4838-a264-193476897b4b",
   "metadata": {},
   "outputs": [],
   "source": []
  }
 ],
 "metadata": {
  "kernelspec": {
   "display_name": "Python 3 (ipykernel)",
   "language": "python",
   "name": "python3"
  },
  "language_info": {
   "codemirror_mode": {
    "name": "ipython",
    "version": 3
   },
   "file_extension": ".py",
   "mimetype": "text/x-python",
   "name": "python",
   "nbconvert_exporter": "python",
   "pygments_lexer": "ipython3",
   "version": "3.10.12"
  }
 },
 "nbformat": 4,
 "nbformat_minor": 5
}
