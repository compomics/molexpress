{
 "cells": [
  {
   "cell_type": "code",
   "execution_count": 1,
   "id": "78b74d69-d506-4a04-94cd-494f6626039d",
   "metadata": {},
   "outputs": [],
   "source": [
    "import os\n",
    "os.environ[\"KERAS_BACKEND\"] = \"torch\" # Comment out for tensorflow backend\n",
    "\n",
    "from molexpress import layers\n",
    "from molexpress.datasets import features\n",
    "from molexpress.datasets import encoders\n",
    "\n",
    "from rdkit import Chem\n",
    "\n",
    "import torch"
   ]
  },
  {
   "cell_type": "markdown",
   "id": "6ea6f2c2-68a9-4e17-9970-2dc884947d0c",
   "metadata": {},
   "source": [
    "## 1. Features"
   ]
  },
  {
   "cell_type": "code",
   "execution_count": 2,
   "id": "715410c1-9efb-49a8-b1c8-bbde338120c6",
   "metadata": {},
   "outputs": [
    {
     "name": "stdout",
     "output_type": "stream",
     "text": [
      "[0.]\n",
      "[0. 1.]\n",
      "[1. 0.]\n",
      "[1. 0. 0.]\n",
      "[1. 0. 0. 0.]\n"
     ]
    }
   ],
   "source": [
    "mol = Chem.MolFromSmiles('CCO')\n",
    "\n",
    "print(features.AtomType(vocab={'O'}, oov=False)(mol.GetAtoms()[0]))\n",
    "print(features.AtomType(vocab={'O'}, oov=True)(mol.GetAtoms()[0]))\n",
    "print(features.AtomType(vocab={'C', 'O'}, oov=False)(mol.GetAtoms()[0]))\n",
    "print(features.AtomType(vocab={'C', 'O', 'N'}, oov=False)(mol.GetAtoms()[0]))\n",
    "print(features.AtomType(vocab={'C', 'O', 'N'}, oov=True)(mol.GetAtoms()[0]))"
   ]
  },
  {
   "cell_type": "markdown",
   "id": "e631ea7a-f984-45e5-9e5c-71f836afc383",
   "metadata": {},
   "source": [
    "## 2. Featurizer"
   ]
  },
  {
   "cell_type": "code",
   "execution_count": 3,
   "id": "94aaac1d-03b3-429c-a8b9-e958d3047312",
   "metadata": {},
   "outputs": [
    {
     "name": "stdout",
     "output_type": "stream",
     "text": [
      "C [1. 0. 0. 0. 0. 0. 1. 0. 0. 0.]\n",
      "SINGLE [0. 0. 1. 0.]\n"
     ]
    }
   ],
   "source": [
    "atom_featurizer = features.Compose([\n",
    "    features.AtomType({'C', 'O', 'N'}),\n",
    "    features.Hybridization(),\n",
    "])\n",
    "\n",
    "bond_featurizer = features.Compose([\n",
    "    features.BondType()\n",
    "])\n",
    "\n",
    "print(mol.GetAtoms()[0].GetSymbol(), atom_featurizer(mol.GetAtoms()[0]))\n",
    "print(mol.GetBonds()[0].GetBondType(), bond_featurizer(mol.GetBonds()[0]))"
   ]
  },
  {
   "cell_type": "markdown",
   "id": "e55da7a9-5064-4b04-b57a-25d15e669b71",
   "metadata": {},
   "source": [
    "## 3. Encoder"
   ]
  },
  {
   "cell_type": "code",
   "execution_count": 4,
   "id": "acffa4bc-7919-464c-a1f3-d8e8f2321abc",
   "metadata": {},
   "outputs": [
    {
     "data": {
      "text/plain": [
       "{'node_state': array([[1., 0., 0., 0., 0., 0., 1., 0., 0., 0.],\n",
       "        [1., 0., 0., 0., 0., 0., 1., 0., 0., 0.],\n",
       "        [0., 0., 1., 0., 0., 0., 1., 0., 0., 0.]], dtype=float32),\n",
       " 'edge_src': array([0, 0, 1, 1, 1, 2, 2], dtype=int32),\n",
       " 'edge_dst': array([0, 1, 0, 1, 2, 1, 2], dtype=int32),\n",
       " 'edge_state': array([[0., 0., 0., 0., 1.],\n",
       "        [0., 0., 1., 0., 0.],\n",
       "        [0., 0., 1., 0., 0.],\n",
       "        [0., 0., 0., 0., 1.],\n",
       "        [0., 0., 1., 0., 0.],\n",
       "        [0., 0., 1., 0., 0.],\n",
       "        [0., 0., 0., 0., 1.]], dtype=float32)}"
      ]
     },
     "execution_count": 4,
     "metadata": {},
     "output_type": "execute_result"
    }
   ],
   "source": [
    "encoder = encoders.MolecularGraphEncoder(\n",
    "    atom_featurizer=atom_featurizer, \n",
    "    bond_featurizer=bond_featurizer,\n",
    "    self_loops=True # adds one dim to edge state\n",
    ")\n",
    "\n",
    "encoder(mol)"
   ]
  },
  {
   "cell_type": "markdown",
   "id": "cdd515c9-0982-4e9a-a65b-74ac9cb230d5",
   "metadata": {},
   "source": [
    "## 4. Dataset"
   ]
  },
  {
   "cell_type": "code",
   "execution_count": 5,
   "id": "75fe8914-da86-4fe8-ab73-13b33cff2b67",
   "metadata": {},
   "outputs": [
    {
     "name": "stdout",
     "output_type": "stream",
     "text": [
      "x = {'node_state': array([[1., 0., 0., 0., 0., 0., 1., 0., 0., 0.],\n",
      "       [1., 0., 0., 0., 0., 0., 1., 0., 0., 0.],\n",
      "       [1., 0., 0., 0., 0., 0., 1., 0., 0., 0.],\n",
      "       [1., 0., 0., 0., 0., 0., 1., 0., 0., 0.]], dtype=float32), 'edge_state': array([[0., 0., 0., 0., 1.],\n",
      "       [0., 0., 1., 0., 0.],\n",
      "       [0., 0., 1., 0., 0.],\n",
      "       [0., 0., 0., 0., 1.],\n",
      "       [0., 0., 0., 0., 1.],\n",
      "       [0., 0., 1., 0., 0.],\n",
      "       [0., 0., 1., 0., 0.],\n",
      "       [0., 0., 0., 0., 1.]], dtype=float32), 'edge_src': array([0, 0, 1, 1, 2, 2, 3, 3]), 'edge_dst': array([0, 1, 0, 1, 2, 3, 2, 3]), 'graph_indicator': array([0, 0, 1, 1])}\n",
      "y = [1. 2.]\n",
      "------------------------------------------------------------------------------------------\n",
      "x = {'node_state': array([[1., 0., 0., 0., 0., 0., 1., 0., 0., 0.],\n",
      "       [1., 0., 0., 0., 0., 0., 1., 0., 0., 0.],\n",
      "       [0., 0., 1., 0., 0., 0., 1., 0., 0., 0.],\n",
      "       [1., 0., 0., 0., 0., 0., 1., 0., 0., 0.],\n",
      "       [1., 0., 0., 0., 0., 0., 1., 0., 0., 0.],\n",
      "       [1., 0., 0., 0., 0., 0., 1., 0., 0., 0.],\n",
      "       [0., 1., 0., 0., 0., 0., 1., 0., 0., 0.]], dtype=float32), 'edge_state': array([[0., 0., 0., 0., 1.],\n",
      "       [0., 0., 1., 0., 0.],\n",
      "       [0., 0., 1., 0., 0.],\n",
      "       [0., 0., 0., 0., 1.],\n",
      "       [0., 0., 1., 0., 0.],\n",
      "       [0., 0., 1., 0., 0.],\n",
      "       [0., 0., 0., 0., 1.],\n",
      "       [0., 0., 0., 0., 1.],\n",
      "       [0., 0., 1., 0., 0.],\n",
      "       [0., 0., 1., 0., 0.],\n",
      "       [0., 0., 0., 0., 1.],\n",
      "       [0., 0., 1., 0., 0.],\n",
      "       [0., 0., 1., 0., 0.],\n",
      "       [0., 0., 0., 0., 1.],\n",
      "       [0., 0., 1., 0., 0.],\n",
      "       [0., 0., 1., 0., 0.],\n",
      "       [0., 0., 0., 0., 1.]], dtype=float32), 'edge_src': array([0, 0, 1, 1, 1, 2, 2, 3, 3, 4, 4, 4, 5, 5, 5, 6, 6]), 'edge_dst': array([0, 1, 0, 1, 2, 1, 2, 3, 4, 3, 4, 5, 4, 5, 6, 5, 6]), 'graph_indicator': array([0, 0, 0, 1, 1, 1, 1])}\n",
      "y = [3. 4.]\n",
      "------------------------------------------------------------------------------------------\n"
     ]
    }
   ],
   "source": [
    "x_dummy = ['CC', 'CC', 'CCO', 'CCCN']\n",
    "y_dummy = [1., 2., 3., 4.]\n",
    "\n",
    "\n",
    "class TinyDataset(torch.utils.data.Dataset):\n",
    "    \n",
    "    def __init__(self, x, y):\n",
    "        self.x = x\n",
    "        self.y = y\n",
    "        \n",
    "    def __len__(self):\n",
    "        return len(self.x)\n",
    "        \n",
    "    def __getitem__(self, index):\n",
    "        x = self.x[index]\n",
    "        y = self.y[index]\n",
    "        x = encoder(x)\n",
    "        return x, y\n",
    "\n",
    "torch_dataset = TinyDataset(x_dummy, y_dummy)\n",
    "\n",
    "dataset = torch.utils.data.DataLoader(\n",
    "    torch_dataset, batch_size=2, collate_fn=encoder._collate_fn)\n",
    "\n",
    "for x, y in dataset:\n",
    "    print(f'x = {x}\\ny = {y}', end='\\n' + '---' * 30 + '\\n')"
   ]
  },
  {
   "cell_type": "markdown",
   "id": "959fec45-b677-463a-a386-42fd5a24cad1",
   "metadata": {},
   "source": [
    "## 5. Model"
   ]
  },
  {
   "cell_type": "code",
   "execution_count": 6,
   "id": "0dfc85ca-a736-4d5f-a4b4-b2a6a62acfa1",
   "metadata": {},
   "outputs": [],
   "source": [
    "class TinyGCNModel(torch.nn.Module):\n",
    "\n",
    "    def __init__(self):\n",
    "        super().__init__()\n",
    "\n",
    "        self.gcn1 = layers.GINConv(32)\n",
    "        self.gcn2 = layers.GINConv(32)\n",
    "        self.readout = layers.Readout()\n",
    "        self.linear = torch.nn.Linear(32, 1)\n",
    "\n",
    "    def forward(self, x):\n",
    "        x = self.gcn1(x)\n",
    "        x = self.gcn2(x)\n",
    "        x = self.readout(x)\n",
    "        x = self.linear(x)\n",
    "        return x\n",
    "\n",
    "model = TinyGCNModel().to('cuda')"
   ]
  },
  {
   "cell_type": "markdown",
   "id": "47d19c5a-31c7-45e3-b623-9151d324ae16",
   "metadata": {},
   "source": [
    "## 6. Fit"
   ]
  },
  {
   "cell_type": "code",
   "execution_count": 7,
   "id": "f0eaa96c-392f-457c-9157-803efe8cc019",
   "metadata": {},
   "outputs": [
    {
     "name": "stdout",
     "output_type": "stream",
     "text": [
      "tensor(8.3608, device='cuda:0', grad_fn=<AddBackward0>)\n",
      "tensor(7.9535, device='cuda:0', grad_fn=<AddBackward0>)\n",
      "tensor(7.2538, device='cuda:0', grad_fn=<AddBackward0>)\n",
      "tensor(6.3826, device='cuda:0', grad_fn=<AddBackward0>)\n",
      "tensor(5.4477, device='cuda:0', grad_fn=<AddBackward0>)\n",
      "tensor(4.5354, device='cuda:0', grad_fn=<AddBackward0>)\n",
      "tensor(3.7063, device='cuda:0', grad_fn=<AddBackward0>)\n",
      "tensor(2.9972, device='cuda:0', grad_fn=<AddBackward0>)\n",
      "tensor(2.4239, device='cuda:0', grad_fn=<AddBackward0>)\n",
      "tensor(1.9859, device='cuda:0', grad_fn=<AddBackward0>)\n",
      "tensor(1.6715, device='cuda:0', grad_fn=<AddBackward0>)\n",
      "tensor(1.4622, device='cuda:0', grad_fn=<AddBackward0>)\n",
      "tensor(1.3367, device='cuda:0', grad_fn=<AddBackward0>)\n",
      "tensor(1.2734, device='cuda:0', grad_fn=<AddBackward0>)\n",
      "tensor(1.2528, device='cuda:0', grad_fn=<AddBackward0>)\n",
      "tensor(1.2586, device='cuda:0', grad_fn=<AddBackward0>)\n",
      "tensor(1.2779, device='cuda:0', grad_fn=<AddBackward0>)\n",
      "tensor(1.3014, device='cuda:0', grad_fn=<AddBackward0>)\n",
      "tensor(1.3230, device='cuda:0', grad_fn=<AddBackward0>)\n",
      "tensor(1.3393, device='cuda:0', grad_fn=<AddBackward0>)\n",
      "tensor(1.3488, device='cuda:0', grad_fn=<AddBackward0>)\n",
      "tensor(1.3515, device='cuda:0', grad_fn=<AddBackward0>)\n",
      "tensor(1.3482, device='cuda:0', grad_fn=<AddBackward0>)\n",
      "tensor(1.3403, device='cuda:0', grad_fn=<AddBackward0>)\n",
      "tensor(1.3293, device='cuda:0', grad_fn=<AddBackward0>)\n",
      "tensor(1.3165, device='cuda:0', grad_fn=<AddBackward0>)\n",
      "tensor(1.3030, device='cuda:0', grad_fn=<AddBackward0>)\n",
      "tensor(1.2897, device='cuda:0', grad_fn=<AddBackward0>)\n",
      "tensor(1.2772, device='cuda:0', grad_fn=<AddBackward0>)\n",
      "tensor(1.2659, device='cuda:0', grad_fn=<AddBackward0>)\n"
     ]
    }
   ],
   "source": [
    "optimizer = torch.optim.SGD(model.parameters(), lr=0.00001, momentum=0.9)\n",
    "loss_fn = torch.nn.MSELoss()\n",
    "\n",
    "for _ in range(30):\n",
    "    loss_sum = 0.\n",
    "    for x, y in dataset:\n",
    "        optimizer.zero_grad()\n",
    "    \n",
    "        outputs = model(x)\n",
    "    \n",
    "        y = torch.tensor(y, dtype=torch.float32).to('cuda')\n",
    "        loss = loss_fn(outputs, y[:, None])\n",
    "        loss.backward()\n",
    "        optimizer.step()\n",
    "\n",
    "        loss_sum += loss\n",
    "        \n",
    "    print(loss_sum)"
   ]
  },
  {
   "cell_type": "code",
   "execution_count": null,
   "id": "2baeee34-82e0-489d-8fe2-191bcc56aa21",
   "metadata": {},
   "outputs": [],
   "source": []
  },
  {
   "cell_type": "code",
   "execution_count": null,
   "id": "b55aebbd-f718-4d14-9f8e-a2e40b99d8ea",
   "metadata": {},
   "outputs": [],
   "source": []
  }
 ],
 "metadata": {
  "kernelspec": {
   "display_name": "Python 3 (ipykernel)",
   "language": "python",
   "name": "python3"
  },
  "language_info": {
   "codemirror_mode": {
    "name": "ipython",
    "version": 3
   },
   "file_extension": ".py",
   "mimetype": "text/x-python",
   "name": "python",
   "nbconvert_exporter": "python",
   "pygments_lexer": "ipython3",
   "version": "3.10.12"
  }
 },
 "nbformat": 4,
 "nbformat_minor": 5
}
